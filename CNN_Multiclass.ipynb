{
  "nbformat": 4,
  "nbformat_minor": 0,
  "metadata": {
    "colab": {
      "provenance": [],
      "authorship_tag": "ABX9TyM7dWFGbFOJHo/wdToZQVBL",
      "include_colab_link": true
    },
    "kernelspec": {
      "name": "python3",
      "display_name": "Python 3"
    },
    "language_info": {
      "name": "python"
    }
  },
  "cells": [
    {
      "cell_type": "markdown",
      "metadata": {
        "id": "view-in-github",
        "colab_type": "text"
      },
      "source": [
        "<a href=\"https://colab.research.google.com/github/Ucchwas/ECG-Classification-using-CNN/blob/main/CNN_Multiclass.ipynb\" target=\"_parent\"><img src=\"https://colab.research.google.com/assets/colab-badge.svg\" alt=\"Open In Colab\"/></a>"
      ]
    },
    {
      "cell_type": "code",
      "execution_count": 33,
      "metadata": {
        "colab": {
          "base_uri": "https://localhost:8080/"
        },
        "id": "iNsnJfen2-pa",
        "outputId": "6819fe21-adf2-46a0-b224-31b45d84c96a"
      },
      "outputs": [
        {
          "output_type": "stream",
          "name": "stdout",
          "text": [
            "Drive already mounted at /content/drive; to attempt to forcibly remount, call drive.mount(\"/content/drive\", force_remount=True).\n"
          ]
        }
      ],
      "source": [
        "from google.colab import drive\n",
        "drive.mount('/content/drive')"
      ]
    },
    {
      "cell_type": "code",
      "source": [
        "import numpy as np\n",
        "import pandas as pd\n",
        "import seaborn as sns\n",
        "import matplotlib.pyplot as plt\n",
        "from sklearn.metrics import classification_report\n",
        "from sklearn.model_selection import train_test_split\n",
        "from sklearn.metrics import f1_score\n",
        "from sklearn.metrics import confusion_matrix\n",
        "from keras.utils.np_utils import to_categorical\n",
        "from sklearn.utils import class_weight\n",
        "import warnings\n",
        "warnings.filterwarnings('ignore')"
      ],
      "metadata": {
        "id": "RY5Gfo6B3IPi"
      },
      "execution_count": 34,
      "outputs": []
    },
    {
      "cell_type": "code",
      "source": [
        "df = pd.read_csv('/content/drive/MyDrive/Datasets/mitbih_train_Ihua.csv')"
      ],
      "metadata": {
        "id": "sX46ec6S3NDA"
      },
      "execution_count": 35,
      "outputs": []
    },
    {
      "cell_type": "code",
      "source": [
        "df.drop('1',axis='columns',inplace=True)\n",
        "#print(df.dtypes)\n",
        "df.fillna(0, inplace=True)\n",
        "X = df.drop('Label1',axis='columns')\n",
        "#Xs = df.drop('Label1',axis='columns')\n",
        "#X = Xs[df['Label1'] != 1 & 2 & 3]\n",
        "y = testLabels = df.Label1.astype(np.float32)\n",
        "#ys = testLabels = df.Label1.astype(np.float32)\n",
        "#y = ys[df['Label1'] != 1 & 2 & 3]"
      ],
      "metadata": {
        "id": "lX3SBFBC8Kl2"
      },
      "execution_count": 36,
      "outputs": []
    },
    {
      "cell_type": "code",
      "source": [
        "from sklearn.model_selection import train_test_split\n",
        "X_train, X_test, y_train, y_test = train_test_split(X, y, test_size= 0.2,train_size=0.8, random_state=15, stratify=y)\n",
        "#print(y_train.value_counts())\n",
        "#print(y.value_counts())\n",
        "#print(y.value_counts())\n",
        "#print(len(X_train.columns))\n",
        "\n",
        "#from tensorflow_addons import losses\n",
        "import tensorflow as tf\n",
        "from tensorflow import keras\n",
        "from sklearn.metrics import confusion_matrix , classification_report"
      ],
      "metadata": {
        "id": "kLjAd8YQ3nEG"
      },
      "execution_count": 37,
      "outputs": []
    },
    {
      "cell_type": "code",
      "source": [
        "from keras.layers import Input, Convolution1D, BatchNormalization, MaxPooling1D, Flatten, Dense\n",
        "from keras.models import Model"
      ],
      "metadata": {
        "id": "zDB6qpmsBWvD"
      },
      "execution_count": 38,
      "outputs": []
    },
    {
      "cell_type": "code",
      "source": [
        "def CNN(X_train, y_train, X_test, y_test, loss, weights):\n",
        "    im_shape = (X_train.shape[1], 1)\n",
        "    inputs_cnn = Input(shape=im_shape, name='inputs_cnn')\n",
        "    conv1_1 = Convolution1D(64, 6, activation='relu', input_shape=im_shape)(inputs_cnn)\n",
        "    conv1_1 = BatchNormalization()(conv1_1)\n",
        "    pool1 = MaxPooling1D(pool_size=3, strides=2, padding=\"same\")(conv1_1)\n",
        "    conv2_1 = Convolution1D(64, 3, activation='relu')(pool1)\n",
        "    conv2_1 = BatchNormalization()(conv2_1)\n",
        "    pool2 = MaxPooling1D(pool_size=2, strides=2, padding=\"same\")(conv2_1)\n",
        "    conv3_1 = Convolution1D(64, 3, activation='relu')(pool2)\n",
        "    conv3_1 = BatchNormalization()(conv3_1)\n",
        "    pool3 = MaxPooling1D(pool_size=2, strides=2, padding=\"same\")(conv3_1)\n",
        "    flatten = Flatten()(pool3)\n",
        "    dense_end1 = Dense(64, activation='relu')(flatten)\n",
        "    dense_end2 = Dense(32, activation='relu')(dense_end1)\n",
        "    main_output = Dense(5, activation='sigmoid', name='main_output')(dense_end2)\n",
        "\n",
        "    model = Model(inputs=inputs_cnn, outputs=main_output)\n",
        "    model.compile(optimizer='adam', loss='binary_crossentropy', metrics=['accuracy'])\n",
        "\n",
        "    if weights == -1:\n",
        "        model.fit(X_train, y_train, epochs=50)\n",
        "    else:\n",
        "        model.fit(X_train, y_train, epochs=50, class_weight=weights)\n",
        "\n",
        "    print(model.evaluate(X_test, y_test))\n",
        "\n",
        "    y_preds = model.predict(X_train)\n",
        "    y_preds = (y_preds > 0.5).astype(int)\n",
        "\n",
        "    print(\"Classification Report: \\n\", classification_report(y_train, y_preds))\n",
        "    return model, y_preds"
      ],
      "metadata": {
        "id": "5rOcCul93o9w"
      },
      "execution_count": 39,
      "outputs": []
    },
    {
      "cell_type": "code",
      "source": [
        "from keras.layers import Dense, Convolution1D, MaxPool1D, Flatten, Dropout\n",
        "from keras.layers import Input\n",
        "from keras.models import Model\n",
        "from tensorflow.keras.layers import BatchNormalization\n",
        "import keras\n",
        "from keras.callbacks import EarlyStopping, ModelCheckpoint"
      ],
      "metadata": {
        "id": "WL2WR60N4BoL"
      },
      "execution_count": 40,
      "outputs": []
    },
    {
      "cell_type": "code",
      "source": [
        "from keras.utils import to_categorical\n",
        "\n",
        "# Convert y_train to one-hot encoding\n",
        "y_train = to_categorical(y_train, num_classes=5)\n",
        "y_test = to_categorical(y_test, num_classes=5)"
      ],
      "metadata": {
        "id": "NItPGnDWBkiO"
      },
      "execution_count": 41,
      "outputs": []
    },
    {
      "cell_type": "code",
      "source": [
        "model,history=CNN(X_train,y_train,X_test,y_test, 'binary_crossentropy', -1)"
      ],
      "metadata": {
        "id": "3pJ5Swyh8sVH",
        "colab": {
          "base_uri": "https://localhost:8080/"
        },
        "outputId": "daf8bbd6-7553-4386-d6bc-a69a3b1c0914"
      },
      "execution_count": 42,
      "outputs": [
        {
          "output_type": "stream",
          "name": "stdout",
          "text": [
            "Epoch 1/50\n",
            "2189/2189 [==============================] - 88s 39ms/step - loss: 0.0519 - accuracy: 0.9603\n",
            "Epoch 2/50\n",
            "2189/2189 [==============================] - 84s 38ms/step - loss: 0.0279 - accuracy: 0.9790\n",
            "Epoch 3/50\n",
            "2189/2189 [==============================] - 91s 42ms/step - loss: 0.0217 - accuracy: 0.9836\n",
            "Epoch 4/50\n",
            "2189/2189 [==============================] - 84s 38ms/step - loss: 0.0180 - accuracy: 0.9859\n",
            "Epoch 5/50\n",
            "2189/2189 [==============================] - 86s 39ms/step - loss: 0.0158 - accuracy: 0.9875\n",
            "Epoch 6/50\n",
            "2189/2189 [==============================] - 83s 38ms/step - loss: 0.0133 - accuracy: 0.9895\n",
            "Epoch 7/50\n",
            "2189/2189 [==============================] - 85s 39ms/step - loss: 0.0119 - accuracy: 0.9905\n",
            "Epoch 8/50\n",
            "2189/2189 [==============================] - 83s 38ms/step - loss: 0.0104 - accuracy: 0.9916\n",
            "Epoch 9/50\n",
            "2189/2189 [==============================] - 84s 38ms/step - loss: 0.0094 - accuracy: 0.9921\n",
            "Epoch 10/50\n",
            "2189/2189 [==============================] - 84s 38ms/step - loss: 0.0080 - accuracy: 0.9935\n",
            "Epoch 11/50\n",
            "2189/2189 [==============================] - 84s 38ms/step - loss: 0.0077 - accuracy: 0.9937\n",
            "Epoch 12/50\n",
            "2189/2189 [==============================] - 84s 39ms/step - loss: 0.0068 - accuracy: 0.9945\n",
            "Epoch 13/50\n",
            "2189/2189 [==============================] - 83s 38ms/step - loss: 0.0062 - accuracy: 0.9951\n",
            "Epoch 14/50\n",
            "2189/2189 [==============================] - 84s 38ms/step - loss: 0.0061 - accuracy: 0.9947\n",
            "Epoch 15/50\n",
            "2189/2189 [==============================] - 83s 38ms/step - loss: 0.0058 - accuracy: 0.9953\n",
            "Epoch 16/50\n",
            "2189/2189 [==============================] - 85s 39ms/step - loss: 0.0052 - accuracy: 0.9955\n",
            "Epoch 17/50\n",
            "2189/2189 [==============================] - 83s 38ms/step - loss: 0.0045 - accuracy: 0.9962\n",
            "Epoch 18/50\n",
            "2189/2189 [==============================] - 90s 41ms/step - loss: 0.0048 - accuracy: 0.9961\n",
            "Epoch 19/50\n",
            "2189/2189 [==============================] - 85s 39ms/step - loss: 0.0048 - accuracy: 0.9961\n",
            "Epoch 20/50\n",
            "2189/2189 [==============================] - 83s 38ms/step - loss: 0.0038 - accuracy: 0.9969\n",
            "Epoch 21/50\n",
            "2189/2189 [==============================] - 84s 39ms/step - loss: 0.0042 - accuracy: 0.9965\n",
            "Epoch 22/50\n",
            "2189/2189 [==============================] - 83s 38ms/step - loss: 0.0039 - accuracy: 0.9969\n",
            "Epoch 23/50\n",
            "2189/2189 [==============================] - 84s 38ms/step - loss: 0.0038 - accuracy: 0.9969\n",
            "Epoch 24/50\n",
            "2189/2189 [==============================] - 84s 38ms/step - loss: 0.0036 - accuracy: 0.9972\n",
            "Epoch 25/50\n",
            "2189/2189 [==============================] - 85s 39ms/step - loss: 0.0033 - accuracy: 0.9976\n",
            "Epoch 26/50\n",
            "2189/2189 [==============================] - 85s 39ms/step - loss: 0.0035 - accuracy: 0.9971\n",
            "Epoch 27/50\n",
            "2189/2189 [==============================] - 85s 39ms/step - loss: 0.0032 - accuracy: 0.9974\n",
            "Epoch 28/50\n",
            "2189/2189 [==============================] - 84s 38ms/step - loss: 0.0030 - accuracy: 0.9976\n",
            "Epoch 29/50\n",
            "2189/2189 [==============================] - 84s 38ms/step - loss: 0.0031 - accuracy: 0.9975\n",
            "Epoch 30/50\n",
            "2189/2189 [==============================] - 84s 39ms/step - loss: 0.0028 - accuracy: 0.9978\n",
            "Epoch 31/50\n",
            "2189/2189 [==============================] - 85s 39ms/step - loss: 0.0027 - accuracy: 0.9978\n",
            "Epoch 32/50\n",
            "2189/2189 [==============================] - 83s 38ms/step - loss: 0.0030 - accuracy: 0.9976\n",
            "Epoch 33/50\n",
            "2189/2189 [==============================] - 83s 38ms/step - loss: 0.0030 - accuracy: 0.9977\n",
            "Epoch 34/50\n",
            "2189/2189 [==============================] - 84s 38ms/step - loss: 0.0026 - accuracy: 0.9981\n",
            "Epoch 35/50\n",
            "2189/2189 [==============================] - 83s 38ms/step - loss: 0.0028 - accuracy: 0.9978\n",
            "Epoch 36/50\n",
            "2189/2189 [==============================] - 85s 39ms/step - loss: 0.0024 - accuracy: 0.9980\n",
            "Epoch 37/50\n",
            "2189/2189 [==============================] - 83s 38ms/step - loss: 0.0021 - accuracy: 0.9983\n",
            "Epoch 38/50\n",
            "2189/2189 [==============================] - 85s 39ms/step - loss: 0.0024 - accuracy: 0.9980\n",
            "Epoch 39/50\n",
            "2189/2189 [==============================] - 84s 38ms/step - loss: 0.0025 - accuracy: 0.9981\n",
            "Epoch 40/50\n",
            "2189/2189 [==============================] - 85s 39ms/step - loss: 0.0027 - accuracy: 0.9980\n",
            "Epoch 41/50\n",
            "2189/2189 [==============================] - 83s 38ms/step - loss: 0.0020 - accuracy: 0.9984\n",
            "Epoch 42/50\n",
            "2189/2189 [==============================] - 85s 39ms/step - loss: 0.0023 - accuracy: 0.9982\n",
            "Epoch 43/50\n",
            "2189/2189 [==============================] - 83s 38ms/step - loss: 0.0023 - accuracy: 0.9983\n",
            "Epoch 44/50\n",
            "2189/2189 [==============================] - 85s 39ms/step - loss: 0.0023 - accuracy: 0.9983\n",
            "Epoch 45/50\n",
            "2189/2189 [==============================] - 83s 38ms/step - loss: 0.0021 - accuracy: 0.9984\n",
            "Epoch 46/50\n",
            "2189/2189 [==============================] - 85s 39ms/step - loss: 0.0020 - accuracy: 0.9986\n",
            "Epoch 47/50\n",
            "2189/2189 [==============================] - 83s 38ms/step - loss: 0.0021 - accuracy: 0.9984\n",
            "Epoch 48/50\n",
            "2189/2189 [==============================] - 85s 39ms/step - loss: 0.0018 - accuracy: 0.9987\n",
            "Epoch 49/50\n",
            "2189/2189 [==============================] - 83s 38ms/step - loss: 0.0019 - accuracy: 0.9988\n",
            "Epoch 50/50\n",
            "2189/2189 [==============================] - 84s 38ms/step - loss: 0.0016 - accuracy: 0.9987\n",
            "548/548 [==============================] - 6s 11ms/step - loss: 0.0461 - accuracy: 0.9866\n",
            "[0.046091482043266296, 0.9865798354148865]\n",
            "2189/2189 [==============================] - 21s 10ms/step\n",
            "Classification Report: \n",
            "               precision    recall  f1-score   support\n",
            "\n",
            "           0       1.00      1.00      1.00     57978\n",
            "           1       0.99      0.98      0.99      1778\n",
            "           2       1.00      0.99      0.99      4630\n",
            "           3       0.94      0.96      0.95       513\n",
            "           4       1.00      1.00      1.00      5145\n",
            "\n",
            "   micro avg       1.00      1.00      1.00     70044\n",
            "   macro avg       0.98      0.99      0.98     70044\n",
            "weighted avg       1.00      1.00      1.00     70044\n",
            " samples avg       1.00      1.00      1.00     70044\n",
            "\n"
          ]
        }
      ]
    },
    {
      "cell_type": "code",
      "source": [
        "model.save(\"CNN_Multiclass.h5\")"
      ],
      "metadata": {
        "id": "Icc6vN-NTzQa"
      },
      "execution_count": 50,
      "outputs": []
    },
    {
      "cell_type": "code",
      "source": [
        "import tensorflow as tf\n",
        "\n",
        "# Load the model\n",
        "model = tf.keras.models.load_model(\"CNN_Multiclass.h5\")"
      ],
      "metadata": {
        "id": "z9YIb4hjUnwe"
      },
      "execution_count": 51,
      "outputs": []
    },
    {
      "cell_type": "code",
      "source": [
        "# convert to tensorflow lite model\n",
        "converter = tf.lite.TFLiteConverter.from_keras_model(model)\n",
        "tflite_model = converter.convert()\n",
        "open(\"CNN_Multiclass.tflite\", \"wb\").write(tflite_model)"
      ],
      "metadata": {
        "colab": {
          "base_uri": "https://localhost:8080/"
        },
        "id": "3MHMc5rtUq0j",
        "outputId": "3cc83ddf-fb4f-47f9-b50f-928987e61c35"
      },
      "execution_count": 52,
      "outputs": [
        {
          "output_type": "stream",
          "name": "stderr",
          "text": [
            "WARNING:absl:Found untraced functions such as _jit_compiled_convolution_op, _jit_compiled_convolution_op, _jit_compiled_convolution_op, _update_step_xla while saving (showing 4 of 4). These functions will not be directly callable after loading.\n"
          ]
        },
        {
          "output_type": "execute_result",
          "data": {
            "text/plain": [
              "482892"
            ]
          },
          "metadata": {},
          "execution_count": 52
        }
      ]
    }
  ]
}