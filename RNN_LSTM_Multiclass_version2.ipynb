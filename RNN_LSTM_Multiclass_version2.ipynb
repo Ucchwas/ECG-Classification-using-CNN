{
  "nbformat": 4,
  "nbformat_minor": 0,
  "metadata": {
    "colab": {
      "provenance": [],
      "authorship_tag": "ABX9TyNYK4xO/ZdsGtvjozAemA9S",
      "include_colab_link": true
    },
    "kernelspec": {
      "name": "python3",
      "display_name": "Python 3"
    },
    "language_info": {
      "name": "python"
    }
  },
  "cells": [
    {
      "cell_type": "markdown",
      "metadata": {
        "id": "view-in-github",
        "colab_type": "text"
      },
      "source": [
        "<a href=\"https://colab.research.google.com/github/Ucchwas/ECG-Classification-using-CNN/blob/main/RNN_LSTM_Multiclass_version2.ipynb\" target=\"_parent\"><img src=\"https://colab.research.google.com/assets/colab-badge.svg\" alt=\"Open In Colab\"/></a>"
      ]
    },
    {
      "cell_type": "code",
      "execution_count": 19,
      "metadata": {
        "colab": {
          "base_uri": "https://localhost:8080/"
        },
        "id": "3OSWoDw8wjnW",
        "outputId": "2ab22dd1-b7db-4f8b-9dff-0c7febe43994"
      },
      "outputs": [
        {
          "output_type": "stream",
          "name": "stdout",
          "text": [
            "Drive already mounted at /content/drive; to attempt to forcibly remount, call drive.mount(\"/content/drive\", force_remount=True).\n"
          ]
        }
      ],
      "source": [
        "from google.colab import drive\n",
        "drive.mount('/content/drive')"
      ]
    },
    {
      "cell_type": "code",
      "source": [
        "import numpy as np\n",
        "import pandas as pd\n",
        "import seaborn as sns\n",
        "import matplotlib.pyplot as plt\n",
        "from sklearn.metrics import classification_report\n",
        "from sklearn.model_selection import train_test_split\n",
        "from sklearn.metrics import f1_score\n",
        "from sklearn.metrics import confusion_matrix\n",
        "from keras.utils.np_utils import to_categorical\n",
        "from sklearn.utils import class_weight\n",
        "import warnings\n",
        "warnings.filterwarnings('ignore')"
      ],
      "metadata": {
        "id": "Clz2fNyJ1sLx"
      },
      "execution_count": 20,
      "outputs": []
    },
    {
      "cell_type": "code",
      "source": [
        "df = pd.read_csv('/content/drive/MyDrive/Datasets/mitbih_train_Ihua.csv')"
      ],
      "metadata": {
        "id": "DQKtrvRQ1zYx"
      },
      "execution_count": 21,
      "outputs": []
    },
    {
      "cell_type": "code",
      "source": [
        "df.drop('1',axis='columns',inplace=True)\n",
        "#print(df.dtypes)\n",
        "df.fillna(0, inplace=True)\n",
        "X = df.drop('Label1',axis='columns')\n",
        "#Xs = df.drop('Label1',axis='columns')\n",
        "#X = Xs[df['Label1'] != 1 & 2 & 3]\n",
        "y = testLabels = df.Label1.astype(np.float32)\n",
        "#ys = testLabels = df.Label1.astype(np.float32)\n",
        "#y = ys[df['Label1'] != 1 & 2 & 3]"
      ],
      "metadata": {
        "id": "It6TYsX_11r9"
      },
      "execution_count": 22,
      "outputs": []
    },
    {
      "cell_type": "code",
      "source": [
        "from sklearn.model_selection import train_test_split\n",
        "X_train, X_test, y_train, y_test = train_test_split(X, y, test_size= 0.2,train_size=0.8, random_state=15, stratify=y)\n",
        "#print(y_train.value_counts())\n",
        "#print(y.value_counts())\n",
        "#print(y.value_counts())\n",
        "#print(len(X_train.columns))\n",
        "\n",
        "#from tensorflow_addons import losses\n",
        "import tensorflow as tf\n",
        "from tensorflow import keras\n",
        "from sklearn.metrics import confusion_matrix , classification_report"
      ],
      "metadata": {
        "id": "Le1w7ruf14tQ"
      },
      "execution_count": 23,
      "outputs": []
    },
    {
      "cell_type": "code",
      "source": [
        "from keras.layers import Input, Convolution1D, BatchNormalization, MaxPooling1D, Flatten, Dense\n",
        "from keras.models import Model"
      ],
      "metadata": {
        "id": "YQT7txYe16xN"
      },
      "execution_count": 24,
      "outputs": []
    },
    {
      "cell_type": "code",
      "source": [
        "def LSTM_Model(X_train, y_train, X_test, y_test, loss, weights):\n",
        "    # Convert DataFrame to NumPy arrays and reshape\n",
        "    X_train = X_train.values.reshape(X_train.shape[0], 1, X_train.shape[1])\n",
        "    X_test = X_test.values.reshape(X_test.shape[0], 1, X_test.shape[1])\n",
        "\n",
        "    model = keras.Sequential([\n",
        "        keras.layers.LSTM(256, input_shape=(1, X_train.shape[2]), activation='relu'),\n",
        "        keras.layers.Dense(256, activation='relu'),\n",
        "        keras.layers.Dense(5, activation='softmax'),\n",
        "    ])\n",
        "\n",
        "    # compile the model\n",
        "    model.compile(optimizer='Adam', loss=loss, metrics=['accuracy'])\n",
        "\n",
        "    if weights == -1:\n",
        "        model.fit(X_train, y_train, epochs=2)\n",
        "    else:\n",
        "        model.fit(X_train, y_train, epochs=2, class_weight=weights)\n",
        "\n",
        "    print(model.evaluate(X_test, y_test))\n",
        "\n",
        "    y_preds = model.predict(X_train)\n",
        "    y_preds = np.argmax(y_preds, axis=1)\n",
        "\n",
        "    print(\"Classification Report: \\n\", classification_report(y_train, y_preds))\n",
        "    return model, y_preds\n"
      ],
      "metadata": {
        "id": "IEn2Hpm70S9H"
      },
      "execution_count": 25,
      "outputs": []
    },
    {
      "cell_type": "code",
      "source": [
        "model, y_preds = LSTM_Model(X_train, y_train, X_test, y_test, 'sparse_categorical_crossentropy', -1)\n",
        "from sklearn.metrics import confusion_matrix\n",
        "cm = confusion_matrix(y_train, y_preds)\n",
        "print(\"Cconfusion Matrix: \\n\",cm)"
      ],
      "metadata": {
        "colab": {
          "base_uri": "https://localhost:8080/"
        },
        "id": "AcbwmUK80Vqh",
        "outputId": "75de844c-bbfa-4856-eb13-13174e10a800"
      },
      "execution_count": 26,
      "outputs": [
        {
          "output_type": "stream",
          "name": "stdout",
          "text": [
            "Epoch 1/2\n",
            "2189/2189 [==============================] - 28s 12ms/step - loss: 0.2558 - accuracy: 0.9287\n",
            "Epoch 2/2\n",
            "2189/2189 [==============================] - 26s 12ms/step - loss: 0.1431 - accuracy: 0.9603\n",
            "548/548 [==============================] - 3s 5ms/step - loss: 0.1404 - accuracy: 0.9649\n",
            "[0.14041250944137573, 0.9649363160133362]\n",
            "2189/2189 [==============================] - 7s 3ms/step\n",
            "Classification Report: \n",
            "               precision    recall  f1-score   support\n",
            "\n",
            "         0.0       0.98      0.99      0.98     57978\n",
            "         1.0       0.90      0.62      0.73      1778\n",
            "         2.0       0.86      0.90      0.88      4630\n",
            "         3.0       0.79      0.55      0.65       513\n",
            "         4.0       0.97      0.96      0.96      5145\n",
            "\n",
            "    accuracy                           0.97     70044\n",
            "   macro avg       0.90      0.80      0.84     70044\n",
            "weighted avg       0.97      0.97      0.96     70044\n",
            "\n",
            "Cconfusion Matrix: \n",
            " [[57192   126   518    44    98]\n",
            " [  612  1108    47     0    11]\n",
            " [  371     3  4175    31    50]\n",
            " [  165     0    67   281     0]\n",
            " [  186     0    40     0  4919]]\n"
          ]
        }
      ]
    },
    {
      "cell_type": "code",
      "source": [
        "model.save(\"RNN_LSTM_Multiclass.h5\")"
      ],
      "metadata": {
        "id": "UG6QfErqJAcS"
      },
      "execution_count": 27,
      "outputs": []
    },
    {
      "cell_type": "code",
      "source": [
        "import tensorflow as tf\n",
        "\n",
        "# Load the model\n",
        "model = tf.keras.models.load_model(\"RNN_LSTM_Multiclass.h5\")"
      ],
      "metadata": {
        "id": "xn9W_nYwJGip"
      },
      "execution_count": 28,
      "outputs": []
    },
    {
      "cell_type": "code",
      "source": [
        "# Convert to TensorFlow Lite model\n",
        "converter = tf.lite.TFLiteConverter.from_keras_model(model)\n",
        "converter.target_spec.supported_ops = [tf.lite.OpsSet.TFLITE_BUILTINS, tf.lite.OpsSet.SELECT_TF_OPS]\n",
        "converter._experimental_lower_tensor_list_ops = False\n",
        "tflite_model = converter.convert()\n",
        "open(\"RNN_LSTM_Multiclass.tflite\", \"wb\").write(tflite_model)"
      ],
      "metadata": {
        "id": "F18KnjIeJK2R",
        "colab": {
          "base_uri": "https://localhost:8080/"
        },
        "outputId": "26c7d65a-1565-45ca-c28b-5220f361e592"
      },
      "execution_count": 31,
      "outputs": [
        {
          "output_type": "stream",
          "name": "stderr",
          "text": [
            "WARNING:absl:Found untraced functions such as _update_step_xla while saving (showing 1 of 1). These functions will not be directly callable after loading.\n"
          ]
        },
        {
          "output_type": "execute_result",
          "data": {
            "text/plain": [
              "2093704"
            ]
          },
          "metadata": {},
          "execution_count": 31
        }
      ]
    }
  ]
}