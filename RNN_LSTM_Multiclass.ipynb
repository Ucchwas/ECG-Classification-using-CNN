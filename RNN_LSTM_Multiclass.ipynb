{
  "nbformat": 4,
  "nbformat_minor": 0,
  "metadata": {
    "colab": {
      "provenance": [],
      "authorship_tag": "ABX9TyOZVvPnX3RwHIU9oTzhVYUS",
      "include_colab_link": true
    },
    "kernelspec": {
      "name": "python3",
      "display_name": "Python 3"
    },
    "language_info": {
      "name": "python"
    }
  },
  "cells": [
    {
      "cell_type": "markdown",
      "metadata": {
        "id": "view-in-github",
        "colab_type": "text"
      },
      "source": [
        "<a href=\"https://colab.research.google.com/github/Ucchwas/ECG-Classification-using-CNN/blob/main/RNN_LSTM_Multiclass.ipynb\" target=\"_parent\"><img src=\"https://colab.research.google.com/assets/colab-badge.svg\" alt=\"Open In Colab\"/></a>"
      ]
    },
    {
      "cell_type": "code",
      "execution_count": 79,
      "metadata": {
        "colab": {
          "base_uri": "https://localhost:8080/"
        },
        "id": "3OSWoDw8wjnW",
        "outputId": "b28fc892-d17c-451c-a395-7fec25d44578"
      },
      "outputs": [
        {
          "output_type": "stream",
          "name": "stdout",
          "text": [
            "Drive already mounted at /content/drive; to attempt to forcibly remount, call drive.mount(\"/content/drive\", force_remount=True).\n"
          ]
        }
      ],
      "source": [
        "from google.colab import drive\n",
        "drive.mount('/content/drive')"
      ]
    },
    {
      "cell_type": "code",
      "source": [
        "import numpy as np\n",
        "import pandas as pd\n",
        "import seaborn as sns\n",
        "import matplotlib.pyplot as plt\n",
        "from sklearn.metrics import classification_report\n",
        "from sklearn.model_selection import train_test_split\n",
        "from sklearn.metrics import f1_score\n",
        "from sklearn.metrics import confusion_matrix\n",
        "from keras.utils.np_utils import to_categorical\n",
        "from sklearn.utils import class_weight\n",
        "import warnings\n",
        "warnings.filterwarnings('ignore')"
      ],
      "metadata": {
        "id": "Clz2fNyJ1sLx"
      },
      "execution_count": 80,
      "outputs": []
    },
    {
      "cell_type": "code",
      "source": [
        "df = pd.read_csv('/content/drive/MyDrive/Datasets/mitbih_train_Ihua.csv')"
      ],
      "metadata": {
        "id": "DQKtrvRQ1zYx"
      },
      "execution_count": 81,
      "outputs": []
    },
    {
      "cell_type": "code",
      "source": [
        "df.drop('1',axis='columns',inplace=True)\n",
        "#print(df.dtypes)\n",
        "df.fillna(0, inplace=True)\n",
        "X = df.drop('Label1',axis='columns')\n",
        "#Xs = df.drop('Label1',axis='columns')\n",
        "#X = Xs[df['Label1'] != 1 & 2 & 3]\n",
        "y = testLabels = df.Label1.astype(np.float32)\n",
        "#ys = testLabels = df.Label1.astype(np.float32)\n",
        "#y = ys[df['Label1'] != 1 & 2 & 3]"
      ],
      "metadata": {
        "id": "It6TYsX_11r9"
      },
      "execution_count": 82,
      "outputs": []
    },
    {
      "cell_type": "code",
      "source": [
        "from sklearn.model_selection import train_test_split\n",
        "X_train, X_test, y_train, y_test = train_test_split(X, y, test_size= 0.2,train_size=0.8, random_state=15, stratify=y)\n",
        "#print(y_train.value_counts())\n",
        "#print(y.value_counts())\n",
        "#print(y.value_counts())\n",
        "#print(len(X_train.columns))\n",
        "\n",
        "#from tensorflow_addons import losses\n",
        "import tensorflow as tf\n",
        "from tensorflow import keras\n",
        "from sklearn.metrics import confusion_matrix , classification_report"
      ],
      "metadata": {
        "id": "Le1w7ruf14tQ"
      },
      "execution_count": 83,
      "outputs": []
    },
    {
      "cell_type": "code",
      "source": [
        "from keras.layers import Input, Convolution1D, BatchNormalization, MaxPooling1D, Flatten, Dense\n",
        "from keras.models import Model"
      ],
      "metadata": {
        "id": "YQT7txYe16xN"
      },
      "execution_count": 84,
      "outputs": []
    },
    {
      "cell_type": "code",
      "source": [
        "def RNN(X_train, y_train, X_test, y_test, loss, weights):\n",
        "    input_shape = (X_train.shape[1], 1)\n",
        "\n",
        "    # Create the sequential model\n",
        "    model = tf.keras.models.Sequential()\n",
        "\n",
        "    # Add the LSTM layer\n",
        "    lstm_layer = LSTM(64, activation='relu', input_shape=input_shape)\n",
        "    model.add(lstm_layer)\n",
        "\n",
        "    # Add the output layer\n",
        "    output_layer = Dense(5, activation='softmax')\n",
        "    model.add(output_layer)\n",
        "\n",
        "    # Compile the model\n",
        "    model.compile(optimizer='adam', loss=loss, metrics=['accuracy'])\n",
        "\n",
        "    # Train the model\n",
        "    if weights == -1:\n",
        "        if len(X_train) == 0:\n",
        "            print(\"The training data is empty.\")\n",
        "        else:\n",
        "            model.fit(X_train, y_train, epochs=50)\n",
        "    else:\n",
        "        if len(X_train) == 0:\n",
        "            print(\"The training data is empty.\")\n",
        "        else:\n",
        "            model.fit(X_train, y_train, epochs=50, class_weight=weights)\n",
        "\n",
        "    # Evaluate the model\n",
        "    print(model.evaluate(X_test, y_test))\n",
        "\n",
        "    y_preds = model.predict(X_train)\n",
        "    y_preds = np.argmax(y_preds, axis=1)\n",
        "\n",
        "    print(\"Classification Report: \\n\", classification_report(y_train, y_preds))\n",
        "    return model, y_preds\n"
      ],
      "metadata": {
        "id": "KiaW5fOs18fZ"
      },
      "execution_count": 92,
      "outputs": []
    },
    {
      "cell_type": "code",
      "source": [
        "from keras.layers import Dense, Convolution1D, MaxPool1D, Flatten, Dropout\n",
        "from keras.layers import Input\n",
        "from keras.models import Model\n",
        "from tensorflow.keras.layers import BatchNormalization\n",
        "import keras\n",
        "from keras.callbacks import EarlyStopping, ModelCheckpoint"
      ],
      "metadata": {
        "id": "6AKxBxX42AiF"
      },
      "execution_count": 86,
      "outputs": []
    },
    {
      "cell_type": "code",
      "source": [
        "from keras.utils import to_categorical\n",
        "\n",
        "# Convert y_train to one-hot encoding\n",
        "y_train = to_categorical(y_train, num_classes=5)\n",
        "y_test = to_categorical(y_test, num_classes=5)"
      ],
      "metadata": {
        "id": "jRQA0McG2C2W"
      },
      "execution_count": 87,
      "outputs": []
    },
    {
      "cell_type": "code",
      "source": [
        "model,history=RNN(X_train,y_train,X_test,y_test, 'binary_crossentropy', -1)"
      ],
      "metadata": {
        "colab": {
          "base_uri": "https://localhost:8080/"
        },
        "id": "yFbkgFuJ2Ew2",
        "outputId": "18f3aee8-b7a8-4ba9-bc36-a0f647dc19d7"
      },
      "execution_count": 93,
      "outputs": [
        {
          "output_type": "stream",
          "name": "stdout",
          "text": [
            "Epoch 1/50\n",
            "2189/2189 [==============================] - 80s 36ms/step - loss: 0.0517 - accuracy: 0.9608\n",
            "Epoch 2/50\n",
            "2189/2189 [==============================] - 79s 36ms/step - loss: 0.0281 - accuracy: 0.9796\n",
            "Epoch 3/50\n",
            "2189/2189 [==============================] - 77s 35ms/step - loss: 0.0217 - accuracy: 0.9837\n",
            "Epoch 4/50\n",
            "2189/2189 [==============================] - 76s 35ms/step - loss: 0.0179 - accuracy: 0.9865\n",
            "Epoch 5/50\n",
            "2189/2189 [==============================] - 77s 35ms/step - loss: 0.0157 - accuracy: 0.9879\n",
            "Epoch 6/50\n",
            "2189/2189 [==============================] - 77s 35ms/step - loss: 0.0136 - accuracy: 0.9892\n",
            "Epoch 7/50\n",
            "2189/2189 [==============================] - 80s 36ms/step - loss: 0.0114 - accuracy: 0.9906\n",
            "Epoch 8/50\n",
            "2189/2189 [==============================] - 76s 35ms/step - loss: 0.0100 - accuracy: 0.9916\n",
            "Epoch 9/50\n",
            "2189/2189 [==============================] - 76s 35ms/step - loss: 0.0093 - accuracy: 0.9923\n",
            "Epoch 10/50\n",
            "2189/2189 [==============================] - 75s 34ms/step - loss: 0.0083 - accuracy: 0.9931\n",
            "Epoch 11/50\n",
            "2189/2189 [==============================] - 75s 34ms/step - loss: 0.0072 - accuracy: 0.9941\n",
            "Epoch 12/50\n",
            "2189/2189 [==============================] - 80s 37ms/step - loss: 0.0068 - accuracy: 0.9943\n",
            "Epoch 13/50\n",
            "2189/2189 [==============================] - 75s 34ms/step - loss: 0.0063 - accuracy: 0.9947\n",
            "Epoch 14/50\n",
            "2189/2189 [==============================] - 76s 35ms/step - loss: 0.0058 - accuracy: 0.9952\n",
            "Epoch 15/50\n",
            "2189/2189 [==============================] - 78s 36ms/step - loss: 0.0057 - accuracy: 0.9951\n",
            "Epoch 16/50\n",
            "2189/2189 [==============================] - 75s 34ms/step - loss: 0.0054 - accuracy: 0.9956\n",
            "Epoch 17/50\n",
            "2189/2189 [==============================] - 75s 34ms/step - loss: 0.0048 - accuracy: 0.9962\n",
            "Epoch 18/50\n",
            "2189/2189 [==============================] - 75s 34ms/step - loss: 0.0051 - accuracy: 0.9960\n",
            "Epoch 19/50\n",
            "2189/2189 [==============================] - 75s 34ms/step - loss: 0.0042 - accuracy: 0.9965\n",
            "Epoch 20/50\n",
            "2189/2189 [==============================] - 75s 34ms/step - loss: 0.0041 - accuracy: 0.9967\n",
            "Epoch 21/50\n",
            "2189/2189 [==============================] - 75s 34ms/step - loss: 0.0040 - accuracy: 0.9966\n",
            "Epoch 22/50\n",
            "2189/2189 [==============================] - 76s 35ms/step - loss: 0.0041 - accuracy: 0.9965\n",
            "Epoch 23/50\n",
            "2189/2189 [==============================] - 78s 35ms/step - loss: 0.0037 - accuracy: 0.9969\n",
            "Epoch 24/50\n",
            "2189/2189 [==============================] - 76s 35ms/step - loss: 0.0038 - accuracy: 0.9972\n",
            "Epoch 25/50\n",
            "2189/2189 [==============================] - 75s 34ms/step - loss: 0.0028 - accuracy: 0.9977\n",
            "Epoch 26/50\n",
            "2189/2189 [==============================] - 76s 35ms/step - loss: 0.0037 - accuracy: 0.9970\n",
            "Epoch 27/50\n",
            "2189/2189 [==============================] - 76s 35ms/step - loss: 0.0031 - accuracy: 0.9976\n",
            "Epoch 28/50\n",
            "2189/2189 [==============================] - 77s 35ms/step - loss: 0.0031 - accuracy: 0.9976\n",
            "Epoch 29/50\n",
            "2189/2189 [==============================] - 77s 35ms/step - loss: 0.0029 - accuracy: 0.9975\n",
            "Epoch 30/50\n",
            "2189/2189 [==============================] - 78s 36ms/step - loss: 0.0030 - accuracy: 0.9976\n",
            "Epoch 31/50\n",
            "2189/2189 [==============================] - 76s 35ms/step - loss: 0.0029 - accuracy: 0.9978\n",
            "Epoch 32/50\n",
            "2189/2189 [==============================] - 76s 35ms/step - loss: 0.0026 - accuracy: 0.9978\n",
            "Epoch 33/50\n",
            "2189/2189 [==============================] - 76s 35ms/step - loss: 0.0029 - accuracy: 0.9977\n",
            "Epoch 34/50\n",
            "2189/2189 [==============================] - 76s 35ms/step - loss: 0.0026 - accuracy: 0.9980\n",
            "Epoch 35/50\n",
            "2189/2189 [==============================] - 76s 35ms/step - loss: 0.0023 - accuracy: 0.9982\n",
            "Epoch 36/50\n",
            "2189/2189 [==============================] - 76s 35ms/step - loss: 0.0028 - accuracy: 0.9979\n",
            "Epoch 37/50\n",
            "2189/2189 [==============================] - 77s 35ms/step - loss: 0.0028 - accuracy: 0.9979\n",
            "Epoch 38/50\n",
            "2189/2189 [==============================] - 76s 35ms/step - loss: 0.0020 - accuracy: 0.9985\n",
            "Epoch 39/50\n",
            "2189/2189 [==============================] - 77s 35ms/step - loss: 0.0023 - accuracy: 0.9981\n",
            "Epoch 40/50\n",
            "2189/2189 [==============================] - 78s 36ms/step - loss: 0.0020 - accuracy: 0.9985\n",
            "Epoch 41/50\n",
            "2189/2189 [==============================] - 78s 36ms/step - loss: 0.0025 - accuracy: 0.9978\n",
            "Epoch 42/50\n",
            "2189/2189 [==============================] - 80s 36ms/step - loss: 0.0020 - accuracy: 0.9985\n",
            "Epoch 43/50\n",
            "2189/2189 [==============================] - 77s 35ms/step - loss: 0.0027 - accuracy: 0.9979\n",
            "Epoch 44/50\n",
            "2189/2189 [==============================] - 77s 35ms/step - loss: 0.0018 - accuracy: 0.9987\n",
            "Epoch 45/50\n",
            "2189/2189 [==============================] - 76s 35ms/step - loss: 0.0024 - accuracy: 0.9982\n",
            "Epoch 46/50\n",
            "2189/2189 [==============================] - 77s 35ms/step - loss: 0.0019 - accuracy: 0.9985\n",
            "Epoch 47/50\n",
            "2189/2189 [==============================] - 78s 36ms/step - loss: 0.0020 - accuracy: 0.9984\n",
            "Epoch 48/50\n",
            "2189/2189 [==============================] - 77s 35ms/step - loss: 0.0020 - accuracy: 0.9985\n",
            "Epoch 49/50\n",
            "2189/2189 [==============================] - 77s 35ms/step - loss: 0.0020 - accuracy: 0.9985\n",
            "Epoch 50/50\n",
            "2189/2189 [==============================] - 76s 35ms/step - loss: 0.0025 - accuracy: 0.9980\n",
            "548/548 [==============================] - 6s 9ms/step - loss: 0.0297 - accuracy: 0.9874\n",
            "[0.029696481302380562, 0.9874364733695984]\n",
            "2189/2189 [==============================] - 19s 8ms/step\n",
            "Classification Report: \n",
            "               precision    recall  f1-score   support\n",
            "\n",
            "           0       1.00      1.00      1.00     57978\n",
            "           1       0.99      0.99      0.99      1778\n",
            "           2       1.00      0.99      1.00      4630\n",
            "           3       0.97      0.94      0.96       513\n",
            "           4       1.00      1.00      1.00      5145\n",
            "\n",
            "   micro avg       1.00      1.00      1.00     70044\n",
            "   macro avg       0.99      0.99      0.99     70044\n",
            "weighted avg       1.00      1.00      1.00     70044\n",
            " samples avg       1.00      1.00      1.00     70044\n",
            "\n"
          ]
        }
      ]
    },
    {
      "cell_type": "code",
      "source": [
        "model.save(\"RNN_LSTM_Multiclass.h5\")"
      ],
      "metadata": {
        "id": "UG6QfErqJAcS"
      },
      "execution_count": 94,
      "outputs": []
    },
    {
      "cell_type": "code",
      "source": [
        "import tensorflow as tf\n",
        "\n",
        "# Load the model\n",
        "model = tf.keras.models.load_model(\"RNN_LSTM_Multiclass.h5\")"
      ],
      "metadata": {
        "id": "xn9W_nYwJGip"
      },
      "execution_count": 95,
      "outputs": []
    },
    {
      "cell_type": "code",
      "source": [
        "# convert to tensorflow lite model\n",
        "converter = tf.lite.TFLiteConverter.from_keras_model(model)\n",
        "tflite_model = converter.convert()\n",
        "open(\"RNN_LSTM_Multiclass.tflite\", \"wb\").write(tflite_model)"
      ],
      "metadata": {
        "colab": {
          "base_uri": "https://localhost:8080/"
        },
        "id": "F18KnjIeJK2R",
        "outputId": "22f0a08f-3185-4353-82cb-fb42c006eed3"
      },
      "execution_count": 96,
      "outputs": [
        {
          "output_type": "stream",
          "name": "stderr",
          "text": [
            "WARNING:absl:Found untraced functions such as _jit_compiled_convolution_op, _jit_compiled_convolution_op, _jit_compiled_convolution_op, _update_step_xla while saving (showing 4 of 4). These functions will not be directly callable after loading.\n"
          ]
        },
        {
          "output_type": "execute_result",
          "data": {
            "text/plain": [
              "482756"
            ]
          },
          "metadata": {},
          "execution_count": 96
        }
      ]
    }
  ]
}