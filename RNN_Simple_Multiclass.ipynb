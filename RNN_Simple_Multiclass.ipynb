{
  "cells": [
    {
      "cell_type": "markdown",
      "metadata": {
        "id": "view-in-github",
        "colab_type": "text"
      },
      "source": [
        "<a href=\"https://colab.research.google.com/github/Ucchwas/ECG-Classification-using-CNN/blob/main/RNN_Simple_Multiclass.ipynb\" target=\"_parent\"><img src=\"https://colab.research.google.com/assets/colab-badge.svg\" alt=\"Open In Colab\"/></a>"
      ]
    },
    {
      "cell_type": "code",
      "execution_count": 29,
      "metadata": {
        "colab": {
          "base_uri": "https://localhost:8080/"
        },
        "id": "cFl16f4t7NQw",
        "outputId": "93663beb-3e6e-43c6-c38f-7580faf2b18d"
      },
      "outputs": [
        {
          "output_type": "stream",
          "name": "stdout",
          "text": [
            "Drive already mounted at /content/drive; to attempt to forcibly remount, call drive.mount(\"/content/drive\", force_remount=True).\n"
          ]
        }
      ],
      "source": [
        "from google.colab import drive\n",
        "drive.mount('/content/drive')"
      ]
    },
    {
      "cell_type": "code",
      "execution_count": 30,
      "metadata": {
        "id": "e5jAKee77Tjo"
      },
      "outputs": [],
      "source": [
        "import numpy as np\n",
        "import pandas as pd\n",
        "import seaborn as sns\n",
        "import matplotlib.pyplot as plt\n",
        "from sklearn.metrics import classification_report\n",
        "from sklearn.model_selection import train_test_split\n",
        "from sklearn.metrics import f1_score\n",
        "from sklearn.metrics import confusion_matrix\n",
        "from keras.utils.np_utils import to_categorical\n",
        "from sklearn.utils import class_weight\n",
        "import warnings\n",
        "warnings.filterwarnings('ignore')"
      ]
    },
    {
      "cell_type": "code",
      "execution_count": 31,
      "metadata": {
        "id": "SG_KuNm97dTS"
      },
      "outputs": [],
      "source": [
        "df = pd.read_csv('/content/drive/MyDrive/Datasets/mitbih_train_Ihua.csv')"
      ]
    },
    {
      "cell_type": "code",
      "execution_count": 32,
      "metadata": {
        "id": "u-rLVU857fGA"
      },
      "outputs": [],
      "source": [
        "df.drop('1',axis='columns',inplace=True)\n",
        "#print(df.dtypes)\n",
        "df.fillna(0, inplace=True)\n",
        "X = df.drop('Label1',axis='columns')\n",
        "#Xs = df.drop('Label1',axis='columns')\n",
        "#X = Xs[df['Label1'] != 1 & 2 & 3]\n",
        "y = testLabels = df.Label1.astype(np.float32)\n",
        "#ys = testLabels = df.Label1.astype(np.float32)\n",
        "#y = ys[df['Label1'] != 1 & 2 & 3]"
      ]
    },
    {
      "cell_type": "code",
      "execution_count": 33,
      "metadata": {
        "id": "Z7-LXY0B7gxj"
      },
      "outputs": [],
      "source": [
        "from sklearn.model_selection import train_test_split\n",
        "X_train, X_test, y_train, y_test = train_test_split(X, y, test_size= 0.2,train_size=0.8, random_state=15, stratify=y)\n",
        "#print(y_train.value_counts())\n",
        "#print(y.value_counts())\n",
        "#print(y.value_counts())\n",
        "#print(len(X_train.columns))\n",
        "\n",
        "#from tensorflow_addons import losses\n",
        "import tensorflow as tf\n",
        "from tensorflow import keras\n",
        "from sklearn.metrics import confusion_matrix , classification_report"
      ]
    },
    {
      "cell_type": "code",
      "execution_count": 34,
      "metadata": {
        "id": "Uxtck49L7ivU"
      },
      "outputs": [],
      "source": [
        "from keras.layers import Input, Convolution1D, BatchNormalization, MaxPooling1D, Flatten, Dense\n",
        "from keras.models import Model"
      ]
    },
    {
      "cell_type": "code",
      "execution_count": 35,
      "metadata": {
        "id": "kvnsvq9g7kQp"
      },
      "outputs": [],
      "source": [
        "def SimpleRNN_Model(X_train, y_train, X_test, y_test, loss, weights):\n",
        "    # Convert DataFrame to NumPy arrays and reshape\n",
        "    X_train = X_train.values.reshape(X_train.shape[0], 1, X_train.shape[1])\n",
        "    X_test = X_test.values.reshape(X_test.shape[0], 1, X_test.shape[1])\n",
        "\n",
        "    model = keras.Sequential([\n",
        "        keras.layers.SimpleRNN(256, input_shape=(1, X_train.shape[2]), activation='relu'),\n",
        "        keras.layers.Dense(256, activation='relu'),\n",
        "        keras.layers.Dense(5, activation='softmax'),\n",
        "    ])\n",
        "\n",
        "    # compile the model\n",
        "    model.compile(optimizer='Adam', loss=loss, metrics=['accuracy'])\n",
        "\n",
        "    if weights == -1:\n",
        "        model.fit(X_train, y_train, epochs=20)\n",
        "    else:\n",
        "        model.fit(X_train, y_train, epochs=20, class_weight=weights)\n",
        "\n",
        "    print(model.evaluate(X_test, y_test))\n",
        "\n",
        "    y_preds = model.predict(X_train)\n",
        "    y_preds = np.argmax(y_preds, axis=1)\n",
        "\n",
        "    print(\"Classification Report: \\n\", classification_report(y_train, y_preds))\n",
        "    return model, y_preds\n"
      ]
    },
    {
      "cell_type": "code",
      "execution_count": 36,
      "metadata": {
        "colab": {
          "base_uri": "https://localhost:8080/"
        },
        "id": "T9-a6Un370JB",
        "outputId": "419294f3-a23a-4329-9fda-a1698e911ddf"
      },
      "outputs": [
        {
          "output_type": "stream",
          "name": "stdout",
          "text": [
            "Epoch 1/20\n",
            "2189/2189 [==============================] - 10s 4ms/step - loss: 0.2246 - accuracy: 0.9369\n",
            "Epoch 2/20\n",
            "2189/2189 [==============================] - 10s 5ms/step - loss: 0.1375 - accuracy: 0.9610\n",
            "Epoch 3/20\n",
            "2189/2189 [==============================] - 8s 4ms/step - loss: 0.1146 - accuracy: 0.9676\n",
            "Epoch 4/20\n",
            "2189/2189 [==============================] - 9s 4ms/step - loss: 0.1009 - accuracy: 0.9709\n",
            "Epoch 5/20\n",
            "2189/2189 [==============================] - 9s 4ms/step - loss: 0.0888 - accuracy: 0.9735\n",
            "Epoch 6/20\n",
            "2189/2189 [==============================] - 8s 4ms/step - loss: 0.0826 - accuracy: 0.9753\n",
            "Epoch 7/20\n",
            "2189/2189 [==============================] - 10s 4ms/step - loss: 0.0761 - accuracy: 0.9765\n",
            "Epoch 8/20\n",
            "2189/2189 [==============================] - 11s 5ms/step - loss: 0.0696 - accuracy: 0.9785\n",
            "Epoch 9/20\n",
            "2189/2189 [==============================] - 8s 4ms/step - loss: 0.0648 - accuracy: 0.9801\n",
            "Epoch 10/20\n",
            "2189/2189 [==============================] - 9s 4ms/step - loss: 0.0601 - accuracy: 0.9812\n",
            "Epoch 11/20\n",
            "2189/2189 [==============================] - 10s 4ms/step - loss: 0.0563 - accuracy: 0.9825\n",
            "Epoch 12/20\n",
            "2189/2189 [==============================] - 9s 4ms/step - loss: 0.0528 - accuracy: 0.9832\n",
            "Epoch 13/20\n",
            "2189/2189 [==============================] - 9s 4ms/step - loss: 0.0499 - accuracy: 0.9842\n",
            "Epoch 14/20\n",
            "2189/2189 [==============================] - 9s 4ms/step - loss: 0.0471 - accuracy: 0.9848\n",
            "Epoch 15/20\n",
            "2189/2189 [==============================] - 10s 4ms/step - loss: 0.0442 - accuracy: 0.9858\n",
            "Epoch 16/20\n",
            "2189/2189 [==============================] - 8s 4ms/step - loss: 0.0412 - accuracy: 0.9865\n",
            "Epoch 17/20\n",
            "2189/2189 [==============================] - 9s 4ms/step - loss: 0.0398 - accuracy: 0.9869\n",
            "Epoch 18/20\n",
            "2189/2189 [==============================] - 9s 4ms/step - loss: 0.0375 - accuracy: 0.9879\n",
            "Epoch 19/20\n",
            "2189/2189 [==============================] - 8s 4ms/step - loss: 0.0386 - accuracy: 0.9869\n",
            "Epoch 20/20\n",
            "2189/2189 [==============================] - 10s 4ms/step - loss: 0.0353 - accuracy: 0.9882\n",
            "548/548 [==============================] - 2s 2ms/step - loss: 0.1025 - accuracy: 0.9774\n",
            "[0.10250107944011688, 0.9773856401443481]\n",
            "2189/2189 [==============================] - 3s 2ms/step\n",
            "Classification Report: \n",
            "               precision    recall  f1-score   support\n",
            "\n",
            "         0.0       0.99      1.00      0.99     57978\n",
            "         1.0       0.96      0.82      0.89      1778\n",
            "         2.0       0.97      0.96      0.96      4630\n",
            "         3.0       0.88      0.81      0.84       513\n",
            "         4.0       1.00      1.00      1.00      5145\n",
            "\n",
            "    accuracy                           0.99     70044\n",
            "   macro avg       0.96      0.92      0.94     70044\n",
            "weighted avg       0.99      0.99      0.99     70044\n",
            "\n",
            "Cconfusion Matrix: \n",
            " [[57820    33    70    40    15]\n",
            " [  305  1461    11     0     1]\n",
            " [  148    28  4431    17     6]\n",
            " [   63     0    37   413     0]\n",
            " [   15     0     6     0  5124]]\n"
          ]
        }
      ],
      "source": [
        "model, y_preds = SimpleRNN_Model(X_train, y_train, X_test, y_test, 'sparse_categorical_crossentropy', -1)\n",
        "from sklearn.metrics import confusion_matrix\n",
        "cm = confusion_matrix(y_train, y_preds)\n",
        "print(\"Cconfusion Matrix: \\n\",cm)"
      ]
    },
    {
      "cell_type": "code",
      "source": [
        "model.save(\"RNN_Simple_Multiclass.h5\")"
      ],
      "metadata": {
        "id": "i58hQ6flcB_Q"
      },
      "execution_count": 37,
      "outputs": []
    },
    {
      "cell_type": "code",
      "source": [
        "import tensorflow as tf\n",
        "\n",
        "# Load the model\n",
        "model = tf.keras.models.load_model(\"RNN_Simple_Multiclass.h5\")"
      ],
      "metadata": {
        "id": "gcU1XBgIiD2f"
      },
      "execution_count": 38,
      "outputs": []
    },
    {
      "cell_type": "code",
      "source": [
        "# Convert to TensorFlow Lite model\n",
        "converter = tf.lite.TFLiteConverter.from_keras_model(model)\n",
        "converter.target_spec.supported_ops = [tf.lite.OpsSet.TFLITE_BUILTINS, tf.lite.OpsSet.SELECT_TF_OPS]\n",
        "converter._experimental_lower_tensor_list_ops = False\n",
        "tflite_model = converter.convert()\n",
        "open(\"RNN_Simple_Multiclass.tflite\", \"wb\").write(tflite_model)"
      ],
      "metadata": {
        "id": "a3a4s88vlxlm",
        "colab": {
          "base_uri": "https://localhost:8080/"
        },
        "outputId": "5eb58992-1b9b-4592-dd7b-87066868a872"
      },
      "execution_count": 39,
      "outputs": [
        {
          "output_type": "stream",
          "name": "stderr",
          "text": [
            "WARNING:absl:Found untraced functions such as _update_step_xla while saving (showing 1 of 1). These functions will not be directly callable after loading.\n"
          ]
        },
        {
          "output_type": "execute_result",
          "data": {
            "text/plain": [
              "730700"
            ]
          },
          "metadata": {},
          "execution_count": 39
        }
      ]
    }
  ],
  "metadata": {
    "colab": {
      "provenance": [],
      "authorship_tag": "ABX9TyORWyHjiZFqi8AaQY/6x3Gf",
      "include_colab_link": true
    },
    "kernelspec": {
      "display_name": "Python 3",
      "name": "python3"
    },
    "language_info": {
      "name": "python"
    }
  },
  "nbformat": 4,
  "nbformat_minor": 0
}