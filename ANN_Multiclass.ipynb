{
  "nbformat": 4,
  "nbformat_minor": 0,
  "metadata": {
    "colab": {
      "provenance": [],
      "authorship_tag": "ABX9TyPfkYLyZ3+jxJK2Lp+RHVvQ",
      "include_colab_link": true
    },
    "kernelspec": {
      "name": "python3",
      "display_name": "Python 3"
    },
    "language_info": {
      "name": "python"
    }
  },
  "cells": [
    {
      "cell_type": "markdown",
      "metadata": {
        "id": "view-in-github",
        "colab_type": "text"
      },
      "source": [
        "<a href=\"https://colab.research.google.com/github/Ucchwas/ECG-Classification-using-CNN/blob/main/ANN_Multiclass.ipynb\" target=\"_parent\"><img src=\"https://colab.research.google.com/assets/colab-badge.svg\" alt=\"Open In Colab\"/></a>"
      ]
    },
    {
      "cell_type": "code",
      "execution_count": 41,
      "metadata": {
        "colab": {
          "base_uri": "https://localhost:8080/"
        },
        "id": "IdwzwI453VYK",
        "outputId": "ffb805f6-eede-46fa-ec70-89e3a8ae9ba6"
      },
      "outputs": [
        {
          "output_type": "stream",
          "name": "stdout",
          "text": [
            "Drive already mounted at /content/drive; to attempt to forcibly remount, call drive.mount(\"/content/drive\", force_remount=True).\n"
          ]
        }
      ],
      "source": [
        "from google.colab import drive\n",
        "drive.mount('/content/drive')"
      ]
    },
    {
      "cell_type": "code",
      "source": [
        "import pandas as pd\n",
        "from matplotlib import pyplot as plt\n",
        "import numpy as np\n",
        "import matplotlib.pyplot as plt\n",
        "from keras.optimizers import SGD\n",
        "import seaborn as sns\n",
        "#%matplotlib inline\n",
        "import warnings\n",
        "# program to compute the time\n",
        "# of execution of any python code\n",
        "from datetime import datetime\n",
        "from requests.packages import target\n",
        "\n",
        "warnings.filterwarnings('ignore')"
      ],
      "metadata": {
        "id": "7MogEZCs3jkf"
      },
      "execution_count": 42,
      "outputs": []
    },
    {
      "cell_type": "code",
      "source": [
        "start = datetime.now()\n",
        "\n",
        "df = pd.read_csv('/content/drive/MyDrive/Datasets/mitbih_train_Ihua.csv')"
      ],
      "metadata": {
        "id": "5bVpZEVW3kaA"
      },
      "execution_count": 43,
      "outputs": []
    },
    {
      "cell_type": "code",
      "source": [
        "df.drop('1',axis='columns',inplace=True)\n",
        "#print(df.dtypes)\n",
        "df.fillna(0, inplace=True)\n",
        "X = df.drop('Label1',axis='columns')\n",
        "#Xs = df.drop('Label1',axis='columns')\n",
        "#X = Xs[df['Label1'] != 1 & 2 & 3]\n",
        "y = testLabels = df.Label1.astype(np.float32)\n",
        "#ys = testLabels = df.Label1.astype(np.float32)\n",
        "#y = ys[df['Label1'] != 1 & 2 & 3]"
      ],
      "metadata": {
        "id": "ePPAUvAY30ko"
      },
      "execution_count": 44,
      "outputs": []
    },
    {
      "cell_type": "code",
      "source": [
        "from sklearn.model_selection import train_test_split\n",
        "X_train, X_test, y_train, y_test = train_test_split(X, y, test_size= 0.2,train_size=0.8, random_state=15, stratify=y)\n",
        "#print(y_train.value_counts())\n",
        "#print(y.value_counts())\n",
        "#print(y.value_counts())\n",
        "#print(len(X_train.columns))\n",
        "\n",
        "#from tensorflow_addons import losses\n",
        "import tensorflow as tf\n",
        "from tensorflow import keras\n",
        "from sklearn.metrics import confusion_matrix , classification_report"
      ],
      "metadata": {
        "id": "HNP6PSeuw1Pu"
      },
      "execution_count": 45,
      "outputs": []
    },
    {
      "cell_type": "code",
      "source": [
        "X_train.shape"
      ],
      "metadata": {
        "colab": {
          "base_uri": "https://localhost:8080/"
        },
        "id": "aXNONVpQParv",
        "outputId": "6134cc59-3e91-4a1e-b39a-1481f347020e"
      },
      "execution_count": 46,
      "outputs": [
        {
          "output_type": "execute_result",
          "data": {
            "text/plain": [
              "(70044, 186)"
            ]
          },
          "metadata": {},
          "execution_count": 46
        }
      ]
    },
    {
      "cell_type": "code",
      "source": [
        "X_test.shape"
      ],
      "metadata": {
        "colab": {
          "base_uri": "https://localhost:8080/"
        },
        "id": "5OTa_hc4Pcyq",
        "outputId": "0e2af190-a087-44aa-9d76-4b1a51201c1f"
      },
      "execution_count": 47,
      "outputs": [
        {
          "output_type": "execute_result",
          "data": {
            "text/plain": [
              "(17511, 186)"
            ]
          },
          "metadata": {},
          "execution_count": 47
        }
      ]
    },
    {
      "cell_type": "code",
      "source": [
        "def ANN(X_train, y_train, X_test, y_test, loss, weights):\n",
        "\n",
        "    model = keras.Sequential([\n",
        "        keras.layers.Dense(256, input_dim=186, activation='relu'),\n",
        "        keras.layers.Dense(256, activation='relu'),\n",
        "        keras.layers.Dense(5, activation='softmax'),\n",
        "    ])\n",
        "\n",
        "    # Define optimizer with custom learning rate\n",
        "    optimizer = keras.optimizers.Adam(learning_rate=0.001)\n",
        "\n",
        "    # Compile the model\n",
        "    model.compile(optimizer=optimizer, loss=loss, metrics=['accuracy'])\n",
        "\n",
        "    # Define class weights if provided\n",
        "    class_weights = None\n",
        "    if weights != -1:\n",
        "        class_weights = weights\n",
        "\n",
        "    # Train the model\n",
        "    model.fit(X_train, y_train, epochs=50, batch_size=32, class_weight=class_weights)\n",
        "\n",
        "    # Evaluate on test data\n",
        "    print(model.evaluate(X_test, y_test))\n",
        "\n",
        "    # Predict on training data\n",
        "    y_train_preds = model.predict(X_train)\n",
        "    y_train_preds = np.argmax(y_train_preds, axis=1)\n",
        "\n",
        "    # Print classification report on training data\n",
        "    print(\"Classification Report (Training Data):\\n\", classification_report(y_train, y_train_preds))\n",
        "\n",
        "    return model, y_train_preds"
      ],
      "metadata": {
        "id": "P5Xo47x734MI"
      },
      "execution_count": 48,
      "outputs": []
    },
    {
      "cell_type": "code",
      "source": [
        "model, y_preds = ANN(X_train, y_train, X_test, y_test, 'sparse_categorical_crossentropy', -1)\n",
        "from sklearn.metrics import confusion_matrix\n",
        "cm = confusion_matrix(y_train, y_preds)\n",
        "print(\"Cconfusion Matrix: \\n\",cm)"
      ],
      "metadata": {
        "colab": {
          "base_uri": "https://localhost:8080/"
        },
        "id": "BKswbxZ536n3",
        "outputId": "34f3b525-0920-491b-f315-bcdc5705cfbb"
      },
      "execution_count": 49,
      "outputs": [
        {
          "output_type": "stream",
          "name": "stdout",
          "text": [
            "Epoch 1/50\n",
            "2189/2189 [==============================] - 11s 5ms/step - loss: 0.2248 - accuracy: 0.9371\n",
            "Epoch 2/50\n",
            "2189/2189 [==============================] - 10s 4ms/step - loss: 0.1386 - accuracy: 0.9611\n",
            "Epoch 3/50\n",
            "2189/2189 [==============================] - 9s 4ms/step - loss: 0.1137 - accuracy: 0.9679\n",
            "Epoch 4/50\n",
            "2189/2189 [==============================] - 11s 5ms/step - loss: 0.0994 - accuracy: 0.9716\n",
            "Epoch 5/50\n",
            "2189/2189 [==============================] - 10s 5ms/step - loss: 0.0894 - accuracy: 0.9742\n",
            "Epoch 6/50\n",
            "2189/2189 [==============================] - 9s 4ms/step - loss: 0.0823 - accuracy: 0.9752\n",
            "Epoch 7/50\n",
            "2189/2189 [==============================] - 10s 5ms/step - loss: 0.0746 - accuracy: 0.9770\n",
            "Epoch 8/50\n",
            "2189/2189 [==============================] - 10s 5ms/step - loss: 0.0691 - accuracy: 0.9783\n",
            "Epoch 9/50\n",
            "2189/2189 [==============================] - 9s 4ms/step - loss: 0.0649 - accuracy: 0.9795\n",
            "Epoch 10/50\n",
            "2189/2189 [==============================] - 11s 5ms/step - loss: 0.0602 - accuracy: 0.9810\n",
            "Epoch 11/50\n",
            "2189/2189 [==============================] - 11s 5ms/step - loss: 0.0568 - accuracy: 0.9816\n",
            "Epoch 12/50\n",
            "2189/2189 [==============================] - 9s 4ms/step - loss: 0.0527 - accuracy: 0.9829\n",
            "Epoch 13/50\n",
            "2189/2189 [==============================] - 10s 5ms/step - loss: 0.0510 - accuracy: 0.9834\n",
            "Epoch 14/50\n",
            "2189/2189 [==============================] - 10s 5ms/step - loss: 0.0474 - accuracy: 0.9845\n",
            "Epoch 15/50\n",
            "2189/2189 [==============================] - 9s 4ms/step - loss: 0.0447 - accuracy: 0.9857\n",
            "Epoch 16/50\n",
            "2189/2189 [==============================] - 10s 5ms/step - loss: 0.0441 - accuracy: 0.9861\n",
            "Epoch 17/50\n",
            "2189/2189 [==============================] - 10s 4ms/step - loss: 0.0394 - accuracy: 0.9868\n",
            "Epoch 18/50\n",
            "2189/2189 [==============================] - 9s 4ms/step - loss: 0.0394 - accuracy: 0.9872\n",
            "Epoch 19/50\n",
            "2189/2189 [==============================] - 10s 5ms/step - loss: 0.0360 - accuracy: 0.9882\n",
            "Epoch 20/50\n",
            "2189/2189 [==============================] - 12s 5ms/step - loss: 0.0356 - accuracy: 0.9882\n",
            "Epoch 21/50\n",
            "2189/2189 [==============================] - 9s 4ms/step - loss: 0.0352 - accuracy: 0.9888\n",
            "Epoch 22/50\n",
            "2189/2189 [==============================] - 10s 5ms/step - loss: 0.0316 - accuracy: 0.9891\n",
            "Epoch 23/50\n",
            "2189/2189 [==============================] - 10s 5ms/step - loss: 0.0314 - accuracy: 0.9895\n",
            "Epoch 24/50\n",
            "2189/2189 [==============================] - 9s 4ms/step - loss: 0.0303 - accuracy: 0.9898\n",
            "Epoch 25/50\n",
            "2189/2189 [==============================] - 10s 5ms/step - loss: 0.0290 - accuracy: 0.9903\n",
            "Epoch 26/50\n",
            "2189/2189 [==============================] - 10s 5ms/step - loss: 0.0287 - accuracy: 0.9906\n",
            "Epoch 27/50\n",
            "2189/2189 [==============================] - 9s 4ms/step - loss: 0.0259 - accuracy: 0.9914\n",
            "Epoch 28/50\n",
            "2189/2189 [==============================] - 10s 5ms/step - loss: 0.0275 - accuracy: 0.9907\n",
            "Epoch 29/50\n",
            "2189/2189 [==============================] - 10s 5ms/step - loss: 0.0238 - accuracy: 0.9916\n",
            "Epoch 30/50\n",
            "2189/2189 [==============================] - 9s 4ms/step - loss: 0.0255 - accuracy: 0.9915\n",
            "Epoch 31/50\n",
            "2189/2189 [==============================] - 10s 5ms/step - loss: 0.0233 - accuracy: 0.9923\n",
            "Epoch 32/50\n",
            "2189/2189 [==============================] - 10s 5ms/step - loss: 0.0223 - accuracy: 0.9925\n",
            "Epoch 33/50\n",
            "2189/2189 [==============================] - 9s 4ms/step - loss: 0.0235 - accuracy: 0.9924\n",
            "Epoch 34/50\n",
            "2189/2189 [==============================] - 10s 5ms/step - loss: 0.0205 - accuracy: 0.9930\n",
            "Epoch 35/50\n",
            "2189/2189 [==============================] - 10s 5ms/step - loss: 0.0222 - accuracy: 0.9926\n",
            "Epoch 36/50\n",
            "2189/2189 [==============================] - 9s 4ms/step - loss: 0.0212 - accuracy: 0.9930\n",
            "Epoch 37/50\n",
            "2189/2189 [==============================] - 10s 5ms/step - loss: 0.0205 - accuracy: 0.9933\n",
            "Epoch 38/50\n",
            "2189/2189 [==============================] - 10s 5ms/step - loss: 0.0209 - accuracy: 0.9934\n",
            "Epoch 39/50\n",
            "2189/2189 [==============================] - 9s 4ms/step - loss: 0.0194 - accuracy: 0.9934\n",
            "Epoch 40/50\n",
            "2189/2189 [==============================] - 11s 5ms/step - loss: 0.0213 - accuracy: 0.9931\n",
            "Epoch 41/50\n",
            "2189/2189 [==============================] - 10s 5ms/step - loss: 0.0187 - accuracy: 0.9938\n",
            "Epoch 42/50\n",
            "2189/2189 [==============================] - 9s 4ms/step - loss: 0.0180 - accuracy: 0.9938\n",
            "Epoch 43/50\n",
            "2189/2189 [==============================] - 10s 5ms/step - loss: 0.0181 - accuracy: 0.9943\n",
            "Epoch 44/50\n",
            "2189/2189 [==============================] - 12s 5ms/step - loss: 0.0179 - accuracy: 0.9937\n",
            "Epoch 45/50\n",
            "2189/2189 [==============================] - 11s 5ms/step - loss: 0.0180 - accuracy: 0.9941\n",
            "Epoch 46/50\n",
            "2189/2189 [==============================] - 10s 5ms/step - loss: 0.0157 - accuracy: 0.9948\n",
            "Epoch 47/50\n",
            "2189/2189 [==============================] - 10s 5ms/step - loss: 0.0169 - accuracy: 0.9945\n",
            "Epoch 48/50\n",
            "2189/2189 [==============================] - 9s 4ms/step - loss: 0.0170 - accuracy: 0.9945\n",
            "Epoch 49/50\n",
            "2189/2189 [==============================] - 10s 5ms/step - loss: 0.0160 - accuracy: 0.9945\n",
            "Epoch 50/50\n",
            "2189/2189 [==============================] - 11s 5ms/step - loss: 0.0164 - accuracy: 0.9949\n",
            "548/548 [==============================] - 1s 2ms/step - loss: 0.1444 - accuracy: 0.9808\n",
            "[0.14436154067516327, 0.9808120727539062]\n",
            "2189/2189 [==============================] - 64s 29ms/step\n",
            "Classification Report (Training Data):\n",
            "               precision    recall  f1-score   support\n",
            "\n",
            "         0.0       1.00      1.00      1.00     57978\n",
            "         1.0       0.96      0.96      0.96      1778\n",
            "         2.0       0.99      0.98      0.99      4630\n",
            "         3.0       0.97      0.84      0.90       513\n",
            "         4.0       1.00      1.00      1.00      5145\n",
            "\n",
            "    accuracy                           1.00     70044\n",
            "   macro avg       0.98      0.96      0.97     70044\n",
            "weighted avg       1.00      1.00      1.00     70044\n",
            "\n",
            "Cconfusion Matrix: \n",
            " [[57887    69    17     4     1]\n",
            " [   65  1713     0     0     0]\n",
            " [   55     3  4554    10     8]\n",
            " [   52     0    31   430     0]\n",
            " [   18     2     1     0  5124]]\n"
          ]
        }
      ]
    },
    {
      "cell_type": "code",
      "source": [
        "model.save(\"ANN_Multiclass.h5\")"
      ],
      "metadata": {
        "id": "TVwuEAUh5HuI"
      },
      "execution_count": 50,
      "outputs": []
    },
    {
      "cell_type": "code",
      "source": [
        "import tensorflow as tf\n",
        "\n",
        "# Load the model\n",
        "model = tf.keras.models.load_model(\"ANN_Multiclass.h5\")"
      ],
      "metadata": {
        "id": "HvAptg7T5N-I"
      },
      "execution_count": 51,
      "outputs": []
    },
    {
      "cell_type": "code",
      "source": [
        "# convert to tensorflow lite model\n",
        "converter = tf.lite.TFLiteConverter.from_keras_model(model)\n",
        "tflite_model = converter.convert()\n",
        "open(\"ANN_Multiclass.tflite\", \"wb\").write(tflite_model)"
      ],
      "metadata": {
        "id": "kR60aO5t6o2A",
        "colab": {
          "base_uri": "https://localhost:8080/"
        },
        "outputId": "feeb536d-c4e9-4411-9135-d3cca2687ee0"
      },
      "execution_count": 52,
      "outputs": [
        {
          "output_type": "stream",
          "name": "stderr",
          "text": [
            "WARNING:absl:Found untraced functions such as _update_step_xla while saving (showing 1 of 1). These functions will not be directly callable after loading.\n"
          ]
        },
        {
          "output_type": "execute_result",
          "data": {
            "text/plain": [
              "461960"
            ]
          },
          "metadata": {},
          "execution_count": 52
        }
      ]
    }
  ]
}